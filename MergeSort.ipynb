{
 "cells": [
  {
   "cell_type": "code",
   "execution_count": 35,
   "metadata": {},
   "outputs": [
    {
     "name": "stdout",
     "output_type": "stream",
     "text": [
      "Given array is:[50, 20, 40, 90, 88, 11, 13]\n",
      "Sorted array is\n",
      "11 13 20 40 50 88 90 \n"
     ]
    }
   ],
   "source": [
    "# Python program for implementation of MergeSort(Divide and Conquer)\n",
    "def MergeSort(arr):\n",
    "    ## Moving Top to Bottom in a Recursive Tree\n",
    "    if len(arr) > 1:\n",
    "        mid=len(arr)//2\n",
    "        #Create two Separate array after spliting\n",
    "        L=arr[:mid]\n",
    "        R=arr[mid:]\n",
    "        #Merge the left Part\n",
    "        MergeSort(L)\n",
    "        #merge the Right Part\n",
    "        MergeSort(R)\n",
    "        \n",
    "        ## Move from Bottom to Top by applying merge procedure \n",
    "        #initialise three pointers(i,j,k) to compare and store the new values in the newly created array.\n",
    "        i=j=k=0\n",
    "        while i<len(L) and j<len(R):\n",
    "            if L[i] < R[j]:\n",
    "                #store Left side value in the new array\n",
    "                arr[k]=L[i]\n",
    "                #increament i to move to the next pointer\n",
    "                i+=1\n",
    "            else:\n",
    "                #store Left side value in the new array\n",
    "                arr[k]=R[j]\n",
    "                #increament j to move to the next pointer\n",
    "                j+=1\n",
    "            #increment the pointer of the newly created array after each iteration\n",
    "            k+=1\n",
    "        # Checking if any element was left\n",
    "        while i<len(L):\n",
    "            arr[k]=L[i]\n",
    "            i+=1\n",
    "            k+=1\n",
    "        while j<len(R):\n",
    "            arr[k]=R[j]\n",
    "            j+=1\n",
    "            k+=1\n",
    "def PrintList(arr):\n",
    "    for i in range(len(arr)):\n",
    "        print(arr[i],end=\" \")\n",
    "    print()\n",
    "arr=[50, 20, 40, 90, 88, 11, 13]\n",
    "print(f\"Given array is:{arr}\")\n",
    "MergeSort(arr)\n",
    "print(f\"Sorted array is\")\n",
    "PrintList(arr)\n",
    "\n",
    "\n",
    "\n",
    "\n",
    "#TimeComplexity------>o(n log n)\n",
    "#SpaceComplexity----->o(n)"
   ]
  },
  {
   "cell_type": "code",
   "execution_count": null,
   "metadata": {},
   "outputs": [],
   "source": []
  },
  {
   "cell_type": "code",
   "execution_count": null,
   "metadata": {},
   "outputs": [],
   "source": []
  },
  {
   "cell_type": "code",
   "execution_count": null,
   "metadata": {},
   "outputs": [],
   "source": []
  }
 ],
 "metadata": {
  "kernelspec": {
   "display_name": "Python 3",
   "language": "python",
   "name": "python3"
  },
  "language_info": {
   "codemirror_mode": {
    "name": "ipython",
    "version": 3
   },
   "file_extension": ".py",
   "mimetype": "text/x-python",
   "name": "python",
   "nbconvert_exporter": "python",
   "pygments_lexer": "ipython3",
   "version": "3.7.6"
  }
 },
 "nbformat": 4,
 "nbformat_minor": 4
}
